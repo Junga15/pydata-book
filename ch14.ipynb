{
  "nbformat": 4,
  "nbformat_minor": 0,
  "metadata": {
    "kernelspec": {
      "display_name": "Python 3",
      "language": "python",
      "name": "python3"
    },
    "language_info": {
      "codemirror_mode": {
        "name": "ipython",
        "version": 3
      },
      "file_extension": ".py",
      "mimetype": "text/x-python",
      "name": "python",
      "nbconvert_exporter": "python",
      "pygments_lexer": "ipython3",
      "version": "3.6.0"
    },
    "colab": {
      "name": "ch14.ipynb",
      "provenance": [],
      "toc_visible": true,
      "include_colab_link": true
    }
  },
  "cells": [
    {
      "cell_type": "markdown",
      "metadata": {
        "id": "view-in-github",
        "colab_type": "text"
      },
      "source": [
        "<a href=\"https://colab.research.google.com/github/Junga15/python-for-Data-Analysis/blob/2nd-edition/ch14.ipynb\" target=\"_parent\"><img src=\"https://colab.research.google.com/assets/colab-badge.svg\" alt=\"Open In Colab\"/></a>"
      ]
    },
    {
      "cell_type": "markdown",
      "metadata": {
        "deletable": true,
        "editable": true,
        "id": "8KFobxhMH5BC"
      },
      "source": [
        "# Chapter14 Data Analysis Examples 데이터 분석 예제"
      ]
    },
    {
      "cell_type": "markdown",
      "metadata": {
        "deletable": true,
        "editable": true,
        "id": "tsQFf4joH5BI"
      },
      "source": [
        "## 14.1 USA.gov Data from Bit.ly 미국 정부 데이터"
      ]
    },
    {
      "cell_type": "code",
      "metadata": {
        "deletable": true,
        "editable": true,
        "id": "Ol0NyzA1H5BJ"
      },
      "source": [
        "from numpy.random import randn\n",
        "import numpy as np\n",
        "np.random.seed(123)\n",
        "import os\n",
        "import matplotlib.pyplot as plt\n",
        "import pandas as pd\n",
        "plt.rc('figure', figsize=(10, 6))\n",
        "np.set_printoptions(precision=4)\n",
        "pd.options.display.max_rows = 20"
      ],
      "execution_count": null,
      "outputs": []
    },
    {
      "cell_type": "markdown",
      "metadata": {
        "deletable": true,
        "editable": true,
        "id": "b1pyRXyNH5BK"
      },
      "source": [
        "In [5]: path = 'datasets/bitly_usagov/example.txt'\n",
        "\n",
        "In [6]: open(path).readline()\n",
        "Out[6]: '{ \"a\": \"Mozilla\\\\/5.0 (Windows NT 6.1; WOW64) AppleWebKit\\\\/535.11\n",
        "(KHTML, like Gecko) Chrome\\\\/17.0.963.78 Safari\\\\/535.11\", \"c\": \"US\", \"nk\": 1,\n",
        "\"tz\": \"America\\\\/New_York\", \"gr\": \"MA\", \"g\": \"A6qOVH\", \"h\": \"wfLQtf\", \"l\":\n",
        "\"orofrog\", \"al\": \"en-US,en;q=0.8\", \"hh\": \"1.usa.gov\", \"r\":\n",
        "\"http:\\\\/\\\\/www.facebook.com\\\\/l\\\\/7AQEFzjSi\\\\/1.usa.gov\\\\/wfLQtf\", \"u\":\n",
        "\"http:\\\\/\\\\/www.ncbi.nlm.nih.gov\\\\/pubmed\\\\/22415991\", \"t\": 1331923247, \"hc\":\n",
        "1331822918, \"cy\": \"Danvers\", \"ll\": [ 42.576698, -70.954903 ] }\\n'"
      ]
    },
    {
      "cell_type": "code",
      "metadata": {
        "deletable": true,
        "editable": true,
        "id": "9f6rHipqH5BL"
      },
      "source": [
        "import json\n",
        "path = 'datasets/bitly_usagov/example.txt'\n",
        "records = [json.loads(line) for line in open(path)]"
      ],
      "execution_count": null,
      "outputs": []
    },
    {
      "cell_type": "markdown",
      "metadata": {
        "deletable": true,
        "editable": true,
        "id": "cMn36J8DH5BL"
      },
      "source": [
        "In [18]: records[0]\n",
        "Out[18]:\n",
        "{'a': 'Mozilla/5.0 (Windows NT 6.1; WOW64) AppleWebKit/535.11 (KHTML, like Gecko)\n",
        "Chrome/17.0.963.78 Safari/535.11',\n",
        " 'al': 'en-US,en;q=0.8',\n",
        " 'c': 'US',\n",
        " 'cy': 'Danvers',\n",
        " 'g': 'A6qOVH',\n",
        " 'gr': 'MA',\n",
        " 'h': 'wfLQtf',\n",
        " 'hc': 1331822918,\n",
        " 'hh': '1.usa.gov',\n",
        " 'l': 'orofrog',\n",
        " 'll': [42.576698, -70.954903],\n",
        " 'nk': 1,\n",
        " 'r': 'http://www.facebook.com/l/7AQEFzjSi/1.usa.gov/wfLQtf',\n",
        " 't': 1331923247,\n",
        " 'tz': 'America/New_York',\n",
        " 'u': 'http://www.ncbi.nlm.nih.gov/pubmed/22415991'}"
      ]
    },
    {
      "cell_type": "markdown",
      "metadata": {
        "deletable": true,
        "editable": true,
        "id": "ZJF_T7q9H5BN"
      },
      "source": [
        "### 14.1.1 Counting Time Zones in Pure Python 순수 파이썬으로 표준시간대 세어보기"
      ]
    },
    {
      "cell_type": "code",
      "metadata": {
        "deletable": true,
        "editable": true,
        "id": "gtDD6T3HH5BN"
      },
      "source": [
        "time_zones = [rec['tz'] for rec in records]"
      ],
      "execution_count": null,
      "outputs": []
    },
    {
      "cell_type": "code",
      "metadata": {
        "deletable": true,
        "editable": true,
        "id": "zDC8zcvXH5BN"
      },
      "source": [
        "time_zones = [rec['tz'] for rec in records if 'tz' in rec]\n",
        "time_zones[:10]"
      ],
      "execution_count": null,
      "outputs": []
    },
    {
      "cell_type": "code",
      "metadata": {
        "deletable": true,
        "editable": true,
        "id": "SqpbZPoyH5BO"
      },
      "source": [
        "def get_counts(sequence):\n",
        "    counts = {}\n",
        "    for x in sequence:\n",
        "        if x in counts:\n",
        "            counts[x] += 1\n",
        "        else:\n",
        "            counts[x] = 1\n",
        "    return counts"
      ],
      "execution_count": null,
      "outputs": []
    },
    {
      "cell_type": "code",
      "metadata": {
        "deletable": true,
        "editable": true,
        "id": "s6rOU63qH5BO"
      },
      "source": [
        "from collections import defaultdict\n",
        "\n",
        "def get_counts2(sequence):\n",
        "    counts = defaultdict(int) # values will initialize to 0\n",
        "    for x in sequence:\n",
        "        counts[x] += 1\n",
        "    return counts"
      ],
      "execution_count": null,
      "outputs": []
    },
    {
      "cell_type": "code",
      "metadata": {
        "deletable": true,
        "editable": true,
        "id": "XsKyJ4JcH5BP"
      },
      "source": [
        "counts = get_counts(time_zones)\n",
        "counts['America/New_York']\n",
        "len(time_zones)"
      ],
      "execution_count": null,
      "outputs": []
    },
    {
      "cell_type": "code",
      "metadata": {
        "deletable": true,
        "editable": true,
        "id": "GRFGJPCJH5BP"
      },
      "source": [
        "def top_counts(count_dict, n=10):\n",
        "    value_key_pairs = [(count, tz) for tz, count in count_dict.items()]\n",
        "    value_key_pairs.sort()\n",
        "    return value_key_pairs[-n:]"
      ],
      "execution_count": null,
      "outputs": []
    },
    {
      "cell_type": "code",
      "metadata": {
        "deletable": true,
        "editable": true,
        "id": "em9x-DcJH5BP"
      },
      "source": [
        "top_counts(counts)"
      ],
      "execution_count": null,
      "outputs": []
    },
    {
      "cell_type": "code",
      "metadata": {
        "deletable": true,
        "editable": true,
        "id": "JPspSKpFH5BQ"
      },
      "source": [
        "from collections import Counter\n",
        "counts = Counter(time_zones)\n",
        "counts.most_common(10)"
      ],
      "execution_count": null,
      "outputs": []
    },
    {
      "cell_type": "markdown",
      "metadata": {
        "deletable": true,
        "editable": true,
        "id": "6Ttd7OU8H5BQ"
      },
      "source": [
        "### 14.1.2 Counting Time Zones with pandas 판다스로 표준시간대 세어보기"
      ]
    },
    {
      "cell_type": "code",
      "metadata": {
        "deletable": true,
        "editable": true,
        "id": "RK6Gwh8cH5BQ"
      },
      "source": [
        "import pandas as pd\n",
        "frame = pd.DataFrame(records)\n",
        "frame.info()\n",
        "frame['tz'][:10]"
      ],
      "execution_count": null,
      "outputs": []
    },
    {
      "cell_type": "code",
      "metadata": {
        "deletable": true,
        "editable": true,
        "id": "5bgIBb7vH5BQ"
      },
      "source": [
        "tz_counts = frame['tz'].value_counts()\n",
        "tz_counts[:10]"
      ],
      "execution_count": null,
      "outputs": []
    },
    {
      "cell_type": "code",
      "metadata": {
        "deletable": true,
        "editable": true,
        "id": "kDsuFWqwH5BR"
      },
      "source": [
        "clean_tz = frame['tz'].fillna('Missing')\n",
        "clean_tz[clean_tz == ''] = 'Unknown'\n",
        "tz_counts = clean_tz.value_counts()\n",
        "tz_counts[:10]"
      ],
      "execution_count": null,
      "outputs": []
    },
    {
      "cell_type": "code",
      "metadata": {
        "deletable": true,
        "editable": true,
        "id": "yyRtpND2H5BR"
      },
      "source": [
        "plt.figure(figsize=(10, 4))"
      ],
      "execution_count": null,
      "outputs": []
    },
    {
      "cell_type": "code",
      "metadata": {
        "deletable": true,
        "editable": true,
        "id": "EnoMaEsjH5BR"
      },
      "source": [
        "import seaborn as sns\n",
        "subset = tz_counts[:10]\n",
        "sns.barplot(y=subset.index, x=subset.values)"
      ],
      "execution_count": null,
      "outputs": []
    },
    {
      "cell_type": "code",
      "metadata": {
        "deletable": true,
        "editable": true,
        "id": "uTMa-V6GH5BR"
      },
      "source": [
        "frame['a'][1]\n",
        "frame['a'][50]\n",
        "frame['a'][51][:50]  # long line"
      ],
      "execution_count": null,
      "outputs": []
    },
    {
      "cell_type": "code",
      "metadata": {
        "deletable": true,
        "editable": true,
        "id": "vvdwSoEYH5BR"
      },
      "source": [
        "results = pd.Series([x.split()[0] for x in frame.a.dropna()])\n",
        "results[:5]\n",
        "results.value_counts()[:8]"
      ],
      "execution_count": null,
      "outputs": []
    },
    {
      "cell_type": "code",
      "metadata": {
        "deletable": true,
        "editable": true,
        "id": "lKFa1eFjH5BS"
      },
      "source": [
        "cframe = frame[frame.a.notnull()]"
      ],
      "execution_count": null,
      "outputs": []
    },
    {
      "cell_type": "code",
      "metadata": {
        "deletable": true,
        "editable": true,
        "id": "VDDdn8hOH5BS"
      },
      "source": [
        "cframe = cframe.copy()"
      ],
      "execution_count": null,
      "outputs": []
    },
    {
      "cell_type": "code",
      "metadata": {
        "deletable": true,
        "editable": true,
        "id": "TdThTW11H5BS"
      },
      "source": [
        "cframe['os'] = np.where(cframe['a'].str.contains('Windows'),\n",
        "                        'Windows', 'Not Windows')\n",
        "cframe['os'][:5]"
      ],
      "execution_count": null,
      "outputs": []
    },
    {
      "cell_type": "code",
      "metadata": {
        "deletable": true,
        "editable": true,
        "id": "3p8v1fw4H5BS"
      },
      "source": [
        "by_tz_os = cframe.groupby(['tz', 'os'])"
      ],
      "execution_count": null,
      "outputs": []
    },
    {
      "cell_type": "code",
      "metadata": {
        "deletable": true,
        "editable": true,
        "id": "RzXJblz0H5BT"
      },
      "source": [
        "agg_counts = by_tz_os.size().unstack().fillna(0)\n",
        "agg_counts[:10]"
      ],
      "execution_count": null,
      "outputs": []
    },
    {
      "cell_type": "code",
      "metadata": {
        "deletable": true,
        "editable": true,
        "id": "heuRXcfwH5BT"
      },
      "source": [
        "# Use to sort in ascending order\n",
        "indexer = agg_counts.sum(1).argsort()\n",
        "indexer[:10]"
      ],
      "execution_count": null,
      "outputs": []
    },
    {
      "cell_type": "code",
      "metadata": {
        "deletable": true,
        "editable": true,
        "id": "zu1fMzu3H5BT"
      },
      "source": [
        "count_subset = agg_counts.take(indexer[-10:])\n",
        "count_subset"
      ],
      "execution_count": null,
      "outputs": []
    },
    {
      "cell_type": "code",
      "metadata": {
        "deletable": true,
        "editable": true,
        "id": "IBiVhlGCH5BT"
      },
      "source": [
        "agg_counts.sum(1).nlargest(10)"
      ],
      "execution_count": null,
      "outputs": []
    },
    {
      "cell_type": "code",
      "metadata": {
        "deletable": true,
        "editable": true,
        "id": "tO2WqWiQH5BU"
      },
      "source": [
        "plt.figure()"
      ],
      "execution_count": null,
      "outputs": []
    },
    {
      "cell_type": "code",
      "metadata": {
        "deletable": true,
        "editable": true,
        "id": "M8BUwA3uH5BU"
      },
      "source": [
        "# Rearrange the data for plotting\n",
        "count_subset = count_subset.stack()\n",
        "count_subset.name = 'total'\n",
        "count_subset = count_subset.reset_index()\n",
        "count_subset[:10]\n",
        "sns.barplot(x='total', y='tz', hue='os',  data=count_subset)"
      ],
      "execution_count": null,
      "outputs": []
    },
    {
      "cell_type": "code",
      "metadata": {
        "deletable": true,
        "editable": true,
        "id": "nc7BqWa7H5BU"
      },
      "source": [
        "def norm_total(group):\n",
        "    group['normed_total'] = group.total / group.total.sum()\n",
        "    return group\n",
        "\n",
        "results = count_subset.groupby('tz').apply(norm_total)"
      ],
      "execution_count": null,
      "outputs": []
    },
    {
      "cell_type": "code",
      "metadata": {
        "deletable": true,
        "editable": true,
        "id": "HVrPvqCyH5BU"
      },
      "source": [
        "plt.figure()"
      ],
      "execution_count": null,
      "outputs": []
    },
    {
      "cell_type": "code",
      "metadata": {
        "deletable": true,
        "editable": true,
        "id": "sDXtsl-1H5BU"
      },
      "source": [
        "sns.barplot(x='normed_total', y='tz', hue='os',  data=results)"
      ],
      "execution_count": null,
      "outputs": []
    },
    {
      "cell_type": "code",
      "metadata": {
        "deletable": true,
        "editable": true,
        "id": "rdP7W3SVH5BV"
      },
      "source": [
        "g = count_subset.groupby('tz')\n",
        "results2 = count_subset.total / g.total.transform('sum')"
      ],
      "execution_count": null,
      "outputs": []
    },
    {
      "cell_type": "markdown",
      "metadata": {
        "deletable": true,
        "editable": true,
        "id": "DzkneW4MH5BV"
      },
      "source": [
        "## 14.2 MovieLens 1M Dataset 무비렌즈의 영화 평점 데이터"
      ]
    },
    {
      "cell_type": "code",
      "metadata": {
        "deletable": true,
        "editable": true,
        "id": "EivK4Q-oH5BV"
      },
      "source": [
        "import pandas as pd\n",
        "\n",
        "# Make display smaller\n",
        "pd.options.display.max_rows = 10\n",
        "\n",
        "unames = ['user_id', 'gender', 'age', 'occupation', 'zip']\n",
        "users = pd.read_table('datasets/movielens/users.dat', sep='::',\n",
        "                      header=None, names=unames)\n",
        "\n",
        "rnames = ['user_id', 'movie_id', 'rating', 'timestamp']\n",
        "ratings = pd.read_table('datasets/movielens/ratings.dat', sep='::',\n",
        "                        header=None, names=rnames)\n",
        "\n",
        "mnames = ['movie_id', 'title', 'genres']\n",
        "movies = pd.read_table('datasets/movielens/movies.dat', sep='::',\n",
        "                       header=None, names=mnames)"
      ],
      "execution_count": null,
      "outputs": []
    },
    {
      "cell_type": "code",
      "metadata": {
        "deletable": true,
        "editable": true,
        "id": "61jKrRk2H5BV"
      },
      "source": [
        "users[:5]\n",
        "ratings[:5]\n",
        "movies[:5]\n",
        "ratings"
      ],
      "execution_count": null,
      "outputs": []
    },
    {
      "cell_type": "code",
      "metadata": {
        "deletable": true,
        "editable": true,
        "id": "vHyKD26IH5BW"
      },
      "source": [
        "data = pd.merge(pd.merge(ratings, users), movies)\n",
        "data\n",
        "data.iloc[0]"
      ],
      "execution_count": null,
      "outputs": []
    },
    {
      "cell_type": "code",
      "metadata": {
        "deletable": true,
        "editable": true,
        "id": "qR0g4wS0H5BX"
      },
      "source": [
        "mean_ratings = data.pivot_table('rating', index='title',\n",
        "                                columns='gender', aggfunc='mean')\n",
        "mean_ratings[:5]"
      ],
      "execution_count": null,
      "outputs": []
    },
    {
      "cell_type": "code",
      "metadata": {
        "deletable": true,
        "editable": true,
        "id": "2kt_cDzEH5BY"
      },
      "source": [
        "ratings_by_title = data.groupby('title').size()\n",
        "ratings_by_title[:10]\n",
        "active_titles = ratings_by_title.index[ratings_by_title >= 250]\n",
        "active_titles"
      ],
      "execution_count": null,
      "outputs": []
    },
    {
      "cell_type": "code",
      "metadata": {
        "deletable": true,
        "editable": true,
        "id": "Uvf33wd_H5BY"
      },
      "source": [
        "# Select rows on the index\n",
        "mean_ratings = mean_ratings.loc[active_titles]\n",
        "mean_ratings"
      ],
      "execution_count": null,
      "outputs": []
    },
    {
      "cell_type": "code",
      "metadata": {
        "deletable": true,
        "editable": true,
        "id": "cDPxl_QbH5BY"
      },
      "source": [
        "mean_ratings = mean_ratings.rename(index={'Seven Samurai (The Magnificent Seven) (Shichinin no samurai) (1954)':\n",
        "                           'Seven Samurai (Shichinin no samurai) (1954)'})"
      ],
      "execution_count": null,
      "outputs": []
    },
    {
      "cell_type": "code",
      "metadata": {
        "deletable": true,
        "editable": true,
        "id": "Q6wYgsatH5BY"
      },
      "source": [
        "top_female_ratings = mean_ratings.sort_values(by='F', ascending=False)\n",
        "top_female_ratings[:10]"
      ],
      "execution_count": null,
      "outputs": []
    },
    {
      "cell_type": "markdown",
      "metadata": {
        "deletable": true,
        "editable": true,
        "id": "S3kTFjQ2H5BY"
      },
      "source": [
        "### 14.2.1 Measuring Rating Disagreement 평점 차이 구하기"
      ]
    },
    {
      "cell_type": "code",
      "metadata": {
        "deletable": true,
        "editable": true,
        "id": "SftvzJesH5BZ"
      },
      "source": [
        "mean_ratings['diff'] = mean_ratings['M'] - mean_ratings['F']"
      ],
      "execution_count": null,
      "outputs": []
    },
    {
      "cell_type": "code",
      "metadata": {
        "deletable": true,
        "editable": true,
        "id": "90aqUgvJH5BZ"
      },
      "source": [
        "sorted_by_diff = mean_ratings.sort_values(by='diff')\n",
        "sorted_by_diff[:10]"
      ],
      "execution_count": null,
      "outputs": []
    },
    {
      "cell_type": "code",
      "metadata": {
        "deletable": true,
        "editable": true,
        "id": "m_pIrLnCH5BZ"
      },
      "source": [
        "# Reverse order of rows, take first 10 rows\n",
        "sorted_by_diff[::-1][:10]"
      ],
      "execution_count": null,
      "outputs": []
    },
    {
      "cell_type": "code",
      "metadata": {
        "deletable": true,
        "editable": true,
        "id": "HADLN7VEH5BZ"
      },
      "source": [
        "# Standard deviation of rating grouped by title\n",
        "rating_std_by_title = data.groupby('title')['rating'].std()\n",
        "# Filter down to active_titles\n",
        "rating_std_by_title = rating_std_by_title.loc[active_titles]\n",
        "# Order Series by value in descending order\n",
        "rating_std_by_title.sort_values(ascending=False)[:10]"
      ],
      "execution_count": null,
      "outputs": []
    },
    {
      "cell_type": "markdown",
      "metadata": {
        "deletable": true,
        "editable": true,
        "id": "eEDDrCXzH5BZ"
      },
      "source": [
        "## 14.3 US Baby Names 1880–2010 신생아 이름"
      ]
    },
    {
      "cell_type": "markdown",
      "metadata": {
        "deletable": true,
        "editable": true,
        "id": "qEC8qAtfH5Ba"
      },
      "source": [
        "In [4]: names.head(10)\n",
        "Out[4]:\n",
        "        name sex  births  year\n",
        "0       Mary   F    7065  1880\n",
        "1       Anna   F    2604  1880\n",
        "2       Emma   F    2003  1880\n",
        "3  Elizabeth   F    1939  1880\n",
        "4     Minnie   F    1746  1880\n",
        "5   Margaret   F    1578  1880\n",
        "6        Ida   F    1472  1880\n",
        "7      Alice   F    1414  1880\n",
        "8     Bertha   F    1320  1880\n",
        "9      Sarah   F    1288  1880"
      ]
    },
    {
      "cell_type": "code",
      "metadata": {
        "deletable": true,
        "editable": true,
        "id": "R0fRspofH5Ba"
      },
      "source": [
        "!head -n 10 datasets/babynames/yob1880.txt"
      ],
      "execution_count": null,
      "outputs": []
    },
    {
      "cell_type": "code",
      "metadata": {
        "deletable": true,
        "editable": true,
        "id": "J7QGXSpLH5Ba"
      },
      "source": [
        "import pandas as pd\n",
        "names1880 = pd.read_csv('datasets/babynames/yob1880.txt',\n",
        "                        names=['name', 'sex', 'births'])\n",
        "names1880"
      ],
      "execution_count": null,
      "outputs": []
    },
    {
      "cell_type": "code",
      "metadata": {
        "deletable": true,
        "editable": true,
        "id": "UW7WZGRbH5Ba"
      },
      "source": [
        "names1880.groupby('sex').births.sum()"
      ],
      "execution_count": null,
      "outputs": []
    },
    {
      "cell_type": "code",
      "metadata": {
        "deletable": true,
        "editable": true,
        "id": "Sdri37l5H5Ba"
      },
      "source": [
        "years = range(1880, 2011)\n",
        "\n",
        "pieces = []\n",
        "columns = ['name', 'sex', 'births']\n",
        "\n",
        "for year in years:\n",
        "    path = 'datasets/babynames/yob%d.txt' % year\n",
        "    frame = pd.read_csv(path, names=columns)\n",
        "\n",
        "    frame['year'] = year\n",
        "    pieces.append(frame)\n",
        "\n",
        "# Concatenate everything into a single DataFrame\n",
        "names = pd.concat(pieces, ignore_index=True)"
      ],
      "execution_count": null,
      "outputs": []
    },
    {
      "cell_type": "code",
      "metadata": {
        "deletable": true,
        "editable": true,
        "id": "Ufe1b55CH5Ba"
      },
      "source": [
        "names"
      ],
      "execution_count": null,
      "outputs": []
    },
    {
      "cell_type": "code",
      "metadata": {
        "deletable": true,
        "editable": true,
        "id": "sGLV_nK8H5Bb"
      },
      "source": [
        "total_births = names.pivot_table('births', index='year',\n",
        "                                 columns='sex', aggfunc=sum)\n",
        "total_births.tail()\n",
        "total_births.plot(title='Total births by sex and year')"
      ],
      "execution_count": null,
      "outputs": []
    },
    {
      "cell_type": "code",
      "metadata": {
        "deletable": true,
        "editable": true,
        "id": "jlhT9UMaH5Bb"
      },
      "source": [
        "def add_prop(group):\n",
        "    group['prop'] = group.births / group.births.sum()\n",
        "    return group\n",
        "names = names.groupby(['year', 'sex']).apply(add_prop)"
      ],
      "execution_count": null,
      "outputs": []
    },
    {
      "cell_type": "code",
      "metadata": {
        "deletable": true,
        "editable": true,
        "id": "mFs2IubWH5Bb"
      },
      "source": [
        "names"
      ],
      "execution_count": null,
      "outputs": []
    },
    {
      "cell_type": "code",
      "metadata": {
        "deletable": true,
        "editable": true,
        "id": "3dt1LkAlH5Bb"
      },
      "source": [
        "names.groupby(['year', 'sex']).prop.sum()"
      ],
      "execution_count": null,
      "outputs": []
    },
    {
      "cell_type": "code",
      "metadata": {
        "deletable": true,
        "editable": true,
        "id": "UpBJ2-39H5Bc"
      },
      "source": [
        "def get_top1000(group):\n",
        "    return group.sort_values(by='births', ascending=False)[:1000]\n",
        "grouped = names.groupby(['year', 'sex'])\n",
        "top1000 = grouped.apply(get_top1000)\n",
        "# Drop the group index, not needed\n",
        "top1000.reset_index(inplace=True, drop=True)"
      ],
      "execution_count": null,
      "outputs": []
    },
    {
      "cell_type": "markdown",
      "metadata": {
        "deletable": true,
        "editable": true,
        "id": "UUxAAmbIH5Bc"
      },
      "source": [
        "pieces = []\n",
        "for year, group in names.groupby(['year', 'sex']):\n",
        "    pieces.append(group.sort_values(by='births', ascending=False)[:1000])\n",
        "top1000 = pd.concat(pieces, ignore_index=True)"
      ]
    },
    {
      "cell_type": "code",
      "metadata": {
        "deletable": true,
        "editable": true,
        "id": "MRwPyJ15H5Bc"
      },
      "source": [
        "top1000"
      ],
      "execution_count": null,
      "outputs": []
    },
    {
      "cell_type": "markdown",
      "metadata": {
        "deletable": true,
        "editable": true,
        "id": "aveJlbk4H5Bc"
      },
      "source": [
        "### 14.3.1 Analyzing Naming Trends 이름 유행 분석"
      ]
    },
    {
      "cell_type": "code",
      "metadata": {
        "deletable": true,
        "editable": true,
        "id": "hrsKqjECH5Bc"
      },
      "source": [
        "boys = top1000[top1000.sex == 'M']\n",
        "girls = top1000[top1000.sex == 'F']"
      ],
      "execution_count": null,
      "outputs": []
    },
    {
      "cell_type": "code",
      "metadata": {
        "deletable": true,
        "editable": true,
        "id": "3iUP2azhH5Bc"
      },
      "source": [
        "total_births = top1000.pivot_table('births', index='year',\n",
        "                                   columns='name',\n",
        "                                   aggfunc=sum)"
      ],
      "execution_count": null,
      "outputs": []
    },
    {
      "cell_type": "code",
      "metadata": {
        "deletable": true,
        "editable": true,
        "id": "w7dftVcQH5Bd"
      },
      "source": [
        "total_births.info()\n",
        "subset = total_births[['John', 'Harry', 'Mary', 'Marilyn']]\n",
        "subset.plot(subplots=True, figsize=(12, 10), grid=False,\n",
        "            title=\"Number of births per year\")"
      ],
      "execution_count": null,
      "outputs": []
    },
    {
      "cell_type": "markdown",
      "metadata": {
        "deletable": true,
        "editable": true,
        "id": "dk5kTueAH5Bd"
      },
      "source": [
        "#### Measuring the increase in naming diversity 다양한 이름을 사용하는 경향 측정하기1"
      ]
    },
    {
      "cell_type": "code",
      "metadata": {
        "deletable": true,
        "editable": true,
        "id": "nJG_a1ziH5Bd"
      },
      "source": [
        "plt.figure()"
      ],
      "execution_count": null,
      "outputs": []
    },
    {
      "cell_type": "code",
      "metadata": {
        "deletable": true,
        "editable": true,
        "id": "FkGqfrv6H5Bd"
      },
      "source": [
        "table = top1000.pivot_table('prop', index='year',\n",
        "                            columns='sex', aggfunc=sum)\n",
        "table.plot(title='Sum of table1000.prop by year and sex',\n",
        "           yticks=np.linspace(0, 1.2, 13), xticks=range(1880, 2020, 10))"
      ],
      "execution_count": null,
      "outputs": []
    },
    {
      "cell_type": "code",
      "metadata": {
        "deletable": true,
        "editable": true,
        "id": "c6I-UDGpH5Bd"
      },
      "source": [
        "df = boys[boys.year == 2010]\n",
        "df"
      ],
      "execution_count": null,
      "outputs": []
    },
    {
      "cell_type": "code",
      "metadata": {
        "deletable": true,
        "editable": true,
        "id": "nKA-38v9H5Bd"
      },
      "source": [
        "prop_cumsum = df.sort_values(by='prop', ascending=False).prop.cumsum()\n",
        "prop_cumsum[:10]\n",
        "prop_cumsum.values.searchsorted(0.5)"
      ],
      "execution_count": null,
      "outputs": []
    },
    {
      "cell_type": "code",
      "metadata": {
        "deletable": true,
        "editable": true,
        "id": "-GnIkAQjH5Be"
      },
      "source": [
        "df = boys[boys.year == 1900]\n",
        "in1900 = df.sort_values(by='prop', ascending=False).prop.cumsum()\n",
        "in1900.values.searchsorted(0.5) + 1"
      ],
      "execution_count": null,
      "outputs": []
    },
    {
      "cell_type": "code",
      "metadata": {
        "deletable": true,
        "editable": true,
        "id": "4XtHSoG_H5Be"
      },
      "source": [
        "def get_quantile_count(group, q=0.5):\n",
        "    group = group.sort_values(by='prop', ascending=False)\n",
        "    return group.prop.cumsum().values.searchsorted(q) + 1\n",
        "\n",
        "diversity = top1000.groupby(['year', 'sex']).apply(get_quantile_count)\n",
        "diversity = diversity.unstack('sex')"
      ],
      "execution_count": null,
      "outputs": []
    },
    {
      "cell_type": "code",
      "metadata": {
        "deletable": true,
        "editable": true,
        "id": "5HKaBWbLH5Be"
      },
      "source": [
        "fig = plt.figure()"
      ],
      "execution_count": null,
      "outputs": []
    },
    {
      "cell_type": "code",
      "metadata": {
        "deletable": true,
        "editable": true,
        "id": "R2oEMY-JH5Be"
      },
      "source": [
        "diversity.head()\n",
        "diversity.plot(title=\"Number of popular names in top 50%\")"
      ],
      "execution_count": null,
      "outputs": []
    },
    {
      "cell_type": "markdown",
      "metadata": {
        "deletable": true,
        "editable": true,
        "id": "mXDE3rCYH5Be"
      },
      "source": [
        "#### The “last letter” revolution '마지막 글자'의 변화2"
      ]
    },
    {
      "cell_type": "code",
      "metadata": {
        "deletable": true,
        "editable": true,
        "id": "IVQILMJZH5Bf"
      },
      "source": [
        "# extract last letter from name column\n",
        "get_last_letter = lambda x: x[-1]\n",
        "last_letters = names.name.map(get_last_letter)\n",
        "last_letters.name = 'last_letter'\n",
        "\n",
        "table = names.pivot_table('births', index=last_letters,\n",
        "                          columns=['sex', 'year'], aggfunc=sum)"
      ],
      "execution_count": null,
      "outputs": []
    },
    {
      "cell_type": "code",
      "metadata": {
        "deletable": true,
        "editable": true,
        "id": "ZTCPf5wEH5Bf"
      },
      "source": [
        "subtable = table.reindex(columns=[1910, 1960, 2010], level='year')\n",
        "subtable.head()"
      ],
      "execution_count": null,
      "outputs": []
    },
    {
      "cell_type": "code",
      "metadata": {
        "deletable": true,
        "editable": true,
        "id": "1yYnd6BXH5Bf"
      },
      "source": [
        "subtable.sum()\n",
        "letter_prop = subtable / subtable.sum()\n",
        "letter_prop"
      ],
      "execution_count": null,
      "outputs": []
    },
    {
      "cell_type": "code",
      "metadata": {
        "deletable": true,
        "editable": true,
        "id": "c1V3iwIDH5Bf"
      },
      "source": [
        "import matplotlib.pyplot as plt\n",
        "\n",
        "fig, axes = plt.subplots(2, 1, figsize=(10, 8))\n",
        "letter_prop['M'].plot(kind='bar', rot=0, ax=axes[0], title='Male')\n",
        "letter_prop['F'].plot(kind='bar', rot=0, ax=axes[1], title='Female',\n",
        "                      legend=False)"
      ],
      "execution_count": null,
      "outputs": []
    },
    {
      "cell_type": "code",
      "metadata": {
        "deletable": true,
        "editable": true,
        "id": "yXHQFzjsH5Bf"
      },
      "source": [
        "plt.subplots_adjust(hspace=0.25)"
      ],
      "execution_count": null,
      "outputs": []
    },
    {
      "cell_type": "code",
      "metadata": {
        "deletable": true,
        "editable": true,
        "id": "Q2EezMhJH5Bf"
      },
      "source": [
        "letter_prop = table / table.sum()\n",
        "dny_ts = letter_prop.loc[['d', 'n', 'y'], 'M'].T\n",
        "dny_ts.head()"
      ],
      "execution_count": null,
      "outputs": []
    },
    {
      "cell_type": "code",
      "metadata": {
        "deletable": true,
        "editable": true,
        "id": "cir7HLodH5Bg"
      },
      "source": [
        "plt.close('all')"
      ],
      "execution_count": null,
      "outputs": []
    },
    {
      "cell_type": "code",
      "metadata": {
        "deletable": true,
        "editable": true,
        "id": "IZr9HEA2H5Bg"
      },
      "source": [
        "fig = plt.figure()"
      ],
      "execution_count": null,
      "outputs": []
    },
    {
      "cell_type": "code",
      "metadata": {
        "deletable": true,
        "editable": true,
        "id": "jgO4rqB8H5Bg"
      },
      "source": [
        "dny_ts.plot()"
      ],
      "execution_count": null,
      "outputs": []
    },
    {
      "cell_type": "markdown",
      "metadata": {
        "deletable": true,
        "editable": true,
        "id": "62WqSyqrH5Bg"
      },
      "source": [
        "#### Boy names that became girl names (and vice versa) 남자 이름과 여자 이름이 바뀐 경우"
      ]
    },
    {
      "cell_type": "code",
      "metadata": {
        "deletable": true,
        "editable": true,
        "id": "NKA4eupvH5Bg"
      },
      "source": [
        "all_names = pd.Series(top1000.name.unique())\n",
        "lesley_like = all_names[all_names.str.lower().str.contains('lesl')]\n",
        "lesley_like"
      ],
      "execution_count": null,
      "outputs": []
    },
    {
      "cell_type": "code",
      "metadata": {
        "deletable": true,
        "editable": true,
        "id": "Q8cTVLuCH5Bh"
      },
      "source": [
        "filtered = top1000[top1000.name.isin(lesley_like)]\n",
        "filtered.groupby('name').births.sum()"
      ],
      "execution_count": null,
      "outputs": []
    },
    {
      "cell_type": "code",
      "metadata": {
        "deletable": true,
        "editable": true,
        "id": "4oJ_g0ARH5Bh"
      },
      "source": [
        "table = filtered.pivot_table('births', index='year',\n",
        "                             columns='sex', aggfunc='sum')\n",
        "table = table.div(table.sum(1), axis=0)\n",
        "table.tail()"
      ],
      "execution_count": null,
      "outputs": []
    },
    {
      "cell_type": "code",
      "metadata": {
        "deletable": true,
        "editable": true,
        "id": "qqzTYJKMH5Bh"
      },
      "source": [
        "fig = plt.figure()"
      ],
      "execution_count": null,
      "outputs": []
    },
    {
      "cell_type": "code",
      "metadata": {
        "deletable": true,
        "editable": true,
        "id": "pce7ua6wH5Bh"
      },
      "source": [
        "table.plot(style={'M': 'k-', 'F': 'k--'})"
      ],
      "execution_count": null,
      "outputs": []
    },
    {
      "cell_type": "markdown",
      "metadata": {
        "deletable": true,
        "editable": true,
        "id": "UrWHTzOkH5Bh"
      },
      "source": [
        "## 14.4 USDA Food Database 미국 농무부 영양소 정보"
      ]
    },
    {
      "cell_type": "markdown",
      "metadata": {
        "deletable": true,
        "editable": true,
        "id": "ua58HrLBH5Bi"
      },
      "source": [
        "{\n",
        "  \"id\": 21441,\n",
        "  \"description\": \"KENTUCKY FRIED CHICKEN, Fried Chicken, EXTRA CRISPY,\n",
        "Wing, meat and skin with breading\",\n",
        "  \"tags\": [\"KFC\"],\n",
        "  \"manufacturer\": \"Kentucky Fried Chicken\",\n",
        "  \"group\": \"Fast Foods\",\n",
        "  \"portions\": [\n",
        "    {\n",
        "      \"amount\": 1,\n",
        "      \"unit\": \"wing, with skin\",\n",
        "      \"grams\": 68.0\n",
        "    },\n",
        "\n",
        "    ...\n",
        "  ],\n",
        "  \"nutrients\": [\n",
        "    {\n",
        "      \"value\": 20.8,\n",
        "      \"units\": \"g\",\n",
        "      \"description\": \"Protein\",\n",
        "      \"group\": \"Composition\"\n",
        "    },\n",
        "\n",
        "    ...\n",
        "  ]\n",
        "}"
      ]
    },
    {
      "cell_type": "code",
      "metadata": {
        "deletable": true,
        "editable": true,
        "id": "1vLvPsq5H5Bi"
      },
      "source": [
        "import json\n",
        "db = json.load(open('datasets/usda_food/database.json'))\n",
        "len(db)"
      ],
      "execution_count": null,
      "outputs": []
    },
    {
      "cell_type": "code",
      "metadata": {
        "deletable": true,
        "editable": true,
        "id": "OKJrhazbH5Bi"
      },
      "source": [
        "db[0].keys()\n",
        "db[0]['nutrients'][0]\n",
        "nutrients = pd.DataFrame(db[0]['nutrients'])\n",
        "nutrients[:7]"
      ],
      "execution_count": null,
      "outputs": []
    },
    {
      "cell_type": "code",
      "metadata": {
        "deletable": true,
        "editable": true,
        "id": "Q3BeVTmwH5Bi"
      },
      "source": [
        "info_keys = ['description', 'group', 'id', 'manufacturer']\n",
        "info = pd.DataFrame(db, columns=info_keys)\n",
        "info[:5]\n",
        "info.info()"
      ],
      "execution_count": null,
      "outputs": []
    },
    {
      "cell_type": "code",
      "metadata": {
        "deletable": true,
        "editable": true,
        "id": "oKkeojrdH5Bj"
      },
      "source": [
        "pd.value_counts(info.group)[:10]"
      ],
      "execution_count": null,
      "outputs": []
    },
    {
      "cell_type": "code",
      "metadata": {
        "deletable": true,
        "editable": true,
        "id": "ElUY-qrEH5Bj"
      },
      "source": [
        "nutrients = []\n",
        "\n",
        "for rec in db:\n",
        "    fnuts = pd.DataFrame(rec['nutrients'])\n",
        "    fnuts['id'] = rec['id']\n",
        "    nutrients.append(fnuts)\n",
        "\n",
        "nutrients = pd.concat(nutrients, ignore_index=True)"
      ],
      "execution_count": null,
      "outputs": []
    },
    {
      "cell_type": "code",
      "metadata": {
        "deletable": true,
        "editable": true,
        "id": "02svG_MMH5Bj"
      },
      "source": [
        "nutrients"
      ],
      "execution_count": null,
      "outputs": []
    },
    {
      "cell_type": "code",
      "metadata": {
        "deletable": true,
        "editable": true,
        "id": "r4QLsA0LH5Bj"
      },
      "source": [
        "nutrients.duplicated().sum()  # number of duplicates\n",
        "nutrients = nutrients.drop_duplicates()"
      ],
      "execution_count": null,
      "outputs": []
    },
    {
      "cell_type": "code",
      "metadata": {
        "deletable": true,
        "editable": true,
        "id": "FjnOGGLZH5Bk"
      },
      "source": [
        "col_mapping = {'description' : 'food',\n",
        "               'group'       : 'fgroup'}\n",
        "info = info.rename(columns=col_mapping, copy=False)\n",
        "info.info()\n",
        "col_mapping = {'description' : 'nutrient',\n",
        "               'group' : 'nutgroup'}\n",
        "nutrients = nutrients.rename(columns=col_mapping, copy=False)\n",
        "nutrients"
      ],
      "execution_count": null,
      "outputs": []
    },
    {
      "cell_type": "code",
      "metadata": {
        "deletable": true,
        "editable": true,
        "id": "GBKPkZnyH5Bk"
      },
      "source": [
        "ndata = pd.merge(nutrients, info, on='id', how='outer')\n",
        "ndata.info()\n",
        "ndata.iloc[30000]"
      ],
      "execution_count": null,
      "outputs": []
    },
    {
      "cell_type": "code",
      "metadata": {
        "deletable": true,
        "editable": true,
        "id": "Bb2EdOmKH5Bk"
      },
      "source": [
        "fig = plt.figure()"
      ],
      "execution_count": null,
      "outputs": []
    },
    {
      "cell_type": "code",
      "metadata": {
        "deletable": true,
        "editable": true,
        "id": "6FBiC1F7H5Bk"
      },
      "source": [
        "result = ndata.groupby(['nutrient', 'fgroup'])['value'].quantile(0.5)\n",
        "result['Zinc, Zn'].sort_values().plot(kind='barh')"
      ],
      "execution_count": null,
      "outputs": []
    },
    {
      "cell_type": "code",
      "metadata": {
        "deletable": true,
        "editable": true,
        "id": "dQ1tg3eYH5Bl"
      },
      "source": [
        "by_nutrient = ndata.groupby(['nutgroup', 'nutrient'])\n",
        "\n",
        "get_maximum = lambda x: x.loc[x.value.idxmax()]\n",
        "get_minimum = lambda x: x.loc[x.value.idxmin()]\n",
        "\n",
        "max_foods = by_nutrient.apply(get_maximum)[['value', 'food']]\n",
        "\n",
        "# make the food a little smaller\n",
        "max_foods.food = max_foods.food.str[:50]"
      ],
      "execution_count": null,
      "outputs": []
    },
    {
      "cell_type": "code",
      "metadata": {
        "deletable": true,
        "editable": true,
        "id": "3uoOHm_mH5Bl"
      },
      "source": [
        "max_foods.loc['Amino Acids']['food']"
      ],
      "execution_count": null,
      "outputs": []
    },
    {
      "cell_type": "markdown",
      "metadata": {
        "deletable": true,
        "editable": true,
        "id": "6AgK7nRUH5Bl"
      },
      "source": [
        "## 14.5 2012 Federal Election Commission Database 2012년 연방선거관리위원회 데이터베이스"
      ]
    },
    {
      "cell_type": "code",
      "metadata": {
        "deletable": true,
        "editable": true,
        "id": "k3QTYapiH5Bl"
      },
      "source": [
        "fec = pd.read_csv('datasets/fec/P00000001-ALL.csv')\n",
        "fec.info()"
      ],
      "execution_count": null,
      "outputs": []
    },
    {
      "cell_type": "code",
      "metadata": {
        "deletable": true,
        "editable": true,
        "id": "1RGFeI3gH5Bm"
      },
      "source": [
        "fec.iloc[123456]"
      ],
      "execution_count": null,
      "outputs": []
    },
    {
      "cell_type": "code",
      "metadata": {
        "deletable": true,
        "editable": true,
        "id": "EWjsJcb6H5Bm"
      },
      "source": [
        "unique_cands = fec.cand_nm.unique()\n",
        "unique_cands\n",
        "unique_cands[2]"
      ],
      "execution_count": null,
      "outputs": []
    },
    {
      "cell_type": "code",
      "metadata": {
        "deletable": true,
        "editable": true,
        "id": "5LqKpcHOH5Bm"
      },
      "source": [
        "parties = {'Bachmann, Michelle': 'Republican',\n",
        "           'Cain, Herman': 'Republican',\n",
        "           'Gingrich, Newt': 'Republican',\n",
        "           'Huntsman, Jon': 'Republican',\n",
        "           'Johnson, Gary Earl': 'Republican',\n",
        "           'McCotter, Thaddeus G': 'Republican',\n",
        "           'Obama, Barack': 'Democrat',\n",
        "           'Paul, Ron': 'Republican',\n",
        "           'Pawlenty, Timothy': 'Republican',\n",
        "           'Perry, Rick': 'Republican',\n",
        "           \"Roemer, Charles E. 'Buddy' III\": 'Republican',\n",
        "           'Romney, Mitt': 'Republican',\n",
        "           'Santorum, Rick': 'Republican'}"
      ],
      "execution_count": null,
      "outputs": []
    },
    {
      "cell_type": "code",
      "metadata": {
        "deletable": true,
        "editable": true,
        "id": "vEXcCfJsH5Bn"
      },
      "source": [
        "fec.cand_nm[123456:123461]\n",
        "fec.cand_nm[123456:123461].map(parties)\n",
        "# Add it as a column\n",
        "fec['party'] = fec.cand_nm.map(parties)\n",
        "fec['party'].value_counts()"
      ],
      "execution_count": null,
      "outputs": []
    },
    {
      "cell_type": "code",
      "metadata": {
        "deletable": true,
        "editable": true,
        "id": "dsfN-PPnH5Bn"
      },
      "source": [
        "(fec.contb_receipt_amt > 0).value_counts()"
      ],
      "execution_count": null,
      "outputs": []
    },
    {
      "cell_type": "code",
      "metadata": {
        "deletable": true,
        "editable": true,
        "id": "Y9Gm37aIH5Bo"
      },
      "source": [
        "fec = fec[fec.contb_receipt_amt > 0]"
      ],
      "execution_count": null,
      "outputs": []
    },
    {
      "cell_type": "code",
      "metadata": {
        "deletable": true,
        "editable": true,
        "id": "tNgMOev7H5Bo"
      },
      "source": [
        "fec_mrbo = fec[fec.cand_nm.isin(['Obama, Barack', 'Romney, Mitt'])]"
      ],
      "execution_count": null,
      "outputs": []
    },
    {
      "cell_type": "markdown",
      "metadata": {
        "deletable": true,
        "editable": true,
        "id": "o70r1OptH5Bo"
      },
      "source": [
        "### 14.5.1 Donation Statistics by Occupation and Employer 직업 및 고용주에 따른 기부 통계"
      ]
    },
    {
      "cell_type": "code",
      "metadata": {
        "deletable": true,
        "editable": true,
        "id": "dR-Y4JgeH5Bo"
      },
      "source": [
        "fec.contbr_occupation.value_counts()[:10]"
      ],
      "execution_count": null,
      "outputs": []
    },
    {
      "cell_type": "code",
      "metadata": {
        "deletable": true,
        "editable": true,
        "id": "xGQKEEHIH5Bp"
      },
      "source": [
        "occ_mapping = {\n",
        "   'INFORMATION REQUESTED PER BEST EFFORTS' : 'NOT PROVIDED',\n",
        "   'INFORMATION REQUESTED' : 'NOT PROVIDED',\n",
        "   'INFORMATION REQUESTED (BEST EFFORTS)' : 'NOT PROVIDED',\n",
        "   'C.E.O.': 'CEO'\n",
        "}\n",
        "\n",
        "# If no mapping provided, return x\n",
        "f = lambda x: occ_mapping.get(x, x)\n",
        "fec.contbr_occupation = fec.contbr_occupation.map(f)"
      ],
      "execution_count": null,
      "outputs": []
    },
    {
      "cell_type": "code",
      "metadata": {
        "deletable": true,
        "editable": true,
        "id": "9YZ8UKuQH5Bp"
      },
      "source": [
        "emp_mapping = {\n",
        "   'INFORMATION REQUESTED PER BEST EFFORTS' : 'NOT PROVIDED',\n",
        "   'INFORMATION REQUESTED' : 'NOT PROVIDED',\n",
        "   'SELF' : 'SELF-EMPLOYED',\n",
        "   'SELF EMPLOYED' : 'SELF-EMPLOYED',\n",
        "}\n",
        "\n",
        "# If no mapping provided, return x\n",
        "f = lambda x: emp_mapping.get(x, x)\n",
        "fec.contbr_employer = fec.contbr_employer.map(f)"
      ],
      "execution_count": null,
      "outputs": []
    },
    {
      "cell_type": "code",
      "metadata": {
        "deletable": true,
        "editable": true,
        "id": "KjQjWDsQH5Bp"
      },
      "source": [
        "by_occupation = fec.pivot_table('contb_receipt_amt',\n",
        "                                index='contbr_occupation',\n",
        "                                columns='party', aggfunc='sum')\n",
        "over_2mm = by_occupation[by_occupation.sum(1) > 2000000]\n",
        "over_2mm"
      ],
      "execution_count": null,
      "outputs": []
    },
    {
      "cell_type": "code",
      "metadata": {
        "deletable": true,
        "editable": true,
        "id": "k13Ej_CsH5Bp"
      },
      "source": [
        "plt.figure()"
      ],
      "execution_count": null,
      "outputs": []
    },
    {
      "cell_type": "code",
      "metadata": {
        "deletable": true,
        "editable": true,
        "id": "Tg-tbLg-H5Bp"
      },
      "source": [
        "over_2mm.plot(kind='barh')"
      ],
      "execution_count": null,
      "outputs": []
    },
    {
      "cell_type": "code",
      "metadata": {
        "deletable": true,
        "editable": true,
        "id": "Z69-wrm2H5Bq"
      },
      "source": [
        "def get_top_amounts(group, key, n=5):\n",
        "    totals = group.groupby(key)['contb_receipt_amt'].sum()\n",
        "    return totals.nlargest(n)"
      ],
      "execution_count": null,
      "outputs": []
    },
    {
      "cell_type": "code",
      "metadata": {
        "deletable": true,
        "editable": true,
        "id": "gwdp0NRRH5Bq"
      },
      "source": [
        "grouped = fec_mrbo.groupby('cand_nm')\n",
        "grouped.apply(get_top_amounts, 'contbr_occupation', n=7)\n",
        "grouped.apply(get_top_amounts, 'contbr_employer', n=10)"
      ],
      "execution_count": null,
      "outputs": []
    },
    {
      "cell_type": "markdown",
      "metadata": {
        "deletable": true,
        "editable": true,
        "id": "qJOiGZ-xH5Bq"
      },
      "source": [
        "### 14.5.2 Bucketing Donation Amounts 기부 금액"
      ]
    },
    {
      "cell_type": "code",
      "metadata": {
        "deletable": true,
        "editable": true,
        "id": "K903BOrTH5Bq"
      },
      "source": [
        "bins = np.array([0, 1, 10, 100, 1000, 10000,\n",
        "                 100000, 1000000, 10000000])\n",
        "labels = pd.cut(fec_mrbo.contb_receipt_amt, bins)\n",
        "labels"
      ],
      "execution_count": null,
      "outputs": []
    },
    {
      "cell_type": "code",
      "metadata": {
        "deletable": true,
        "editable": true,
        "id": "aAKwD8rkH5Br"
      },
      "source": [
        "grouped = fec_mrbo.groupby(['cand_nm', labels])\n",
        "grouped.size().unstack(0)"
      ],
      "execution_count": null,
      "outputs": []
    },
    {
      "cell_type": "code",
      "metadata": {
        "deletable": true,
        "editable": true,
        "id": "ZCg8PVN3H5Br"
      },
      "source": [
        "plt.figure()"
      ],
      "execution_count": null,
      "outputs": []
    },
    {
      "cell_type": "code",
      "metadata": {
        "deletable": true,
        "editable": true,
        "id": "NtXptOJCH5Br"
      },
      "source": [
        "bucket_sums = grouped.contb_receipt_amt.sum().unstack(0)\n",
        "normed_sums = bucket_sums.div(bucket_sums.sum(axis=1), axis=0)\n",
        "normed_sums\n",
        "normed_sums[:-2].plot(kind='barh')"
      ],
      "execution_count": null,
      "outputs": []
    },
    {
      "cell_type": "markdown",
      "metadata": {
        "deletable": true,
        "editable": true,
        "id": "-IIq4jHEH5Br"
      },
      "source": [
        "### 14.5.3 Donation Statistics by State 주별 기부 통계"
      ]
    },
    {
      "cell_type": "code",
      "metadata": {
        "deletable": true,
        "editable": true,
        "id": "NSDEXHJoH5Bs"
      },
      "source": [
        "grouped = fec_mrbo.groupby(['cand_nm', 'contbr_st'])\n",
        "totals = grouped.contb_receipt_amt.sum().unstack(0).fillna(0)\n",
        "totals = totals[totals.sum(1) > 100000]\n",
        "totals[:10]"
      ],
      "execution_count": null,
      "outputs": []
    },
    {
      "cell_type": "code",
      "metadata": {
        "deletable": true,
        "editable": true,
        "id": "eHyUfq8fH5Bs"
      },
      "source": [
        "percent = totals.div(totals.sum(1), axis=0)\n",
        "percent[:10]"
      ],
      "execution_count": null,
      "outputs": []
    },
    {
      "cell_type": "markdown",
      "metadata": {
        "deletable": true,
        "editable": true,
        "id": "owAGXFAsH5Bt"
      },
      "source": [
        "## 14.6 Conclusion 마치며"
      ]
    }
  ]
}