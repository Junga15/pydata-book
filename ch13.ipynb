{
  "nbformat": 4,
  "nbformat_minor": 0,
  "metadata": {
    "kernelspec": {
      "display_name": "Python 3",
      "language": "python",
      "name": "python3"
    },
    "language_info": {
      "codemirror_mode": {
        "name": "ipython",
        "version": 3
      },
      "file_extension": ".py",
      "mimetype": "text/x-python",
      "name": "python",
      "nbconvert_exporter": "python",
      "pygments_lexer": "ipython3",
      "version": "3.6.0"
    },
    "colab": {
      "name": "ch13.ipynb",
      "provenance": [],
      "toc_visible": true,
      "include_colab_link": true
    }
  },
  "cells": [
    {
      "cell_type": "markdown",
      "metadata": {
        "id": "view-in-github",
        "colab_type": "text"
      },
      "source": [
        "<a href=\"https://colab.research.google.com/github/Junga15/python-for-Data-Analysis/blob/2nd-edition/ch13.ipynb\" target=\"_parent\"><img src=\"https://colab.research.google.com/assets/colab-badge.svg\" alt=\"Open In Colab\"/></a>"
      ]
    },
    {
      "cell_type": "markdown",
      "metadata": {
        "deletable": true,
        "editable": true,
        "id": "ptblFNyZGH_r"
      },
      "source": [
        "# Chapter13 Introduction to Modeling Libraries 파이썬 모델링 라이브러리"
      ]
    },
    {
      "cell_type": "code",
      "metadata": {
        "deletable": true,
        "editable": true,
        "id": "eZ2eD-N9GH_6"
      },
      "source": [
        "import numpy as np\n",
        "import pandas as pd\n",
        "np.random.seed(12345)\n",
        "import matplotlib.pyplot as plt\n",
        "plt.rc('figure', figsize=(10, 6))\n",
        "PREVIOUS_MAX_ROWS = pd.options.display.max_rows\n",
        "pd.options.display.max_rows = 20\n",
        "np.set_printoptions(precision=4, suppress=True)"
      ],
      "execution_count": null,
      "outputs": []
    },
    {
      "cell_type": "markdown",
      "metadata": {
        "deletable": true,
        "editable": true,
        "id": "GMzuzN5GGH_7"
      },
      "source": [
        "## 13.1 Interfacing Between pandas and Model Code 판다스와 모델 모드의 인터페이스"
      ]
    },
    {
      "cell_type": "code",
      "metadata": {
        "deletable": true,
        "editable": true,
        "id": "z1NqvmRTGH_8"
      },
      "source": [
        "import pandas as pd\n",
        "import numpy as np\n",
        "data = pd.DataFrame({\n",
        "    'x0': [1, 2, 3, 4, 5],\n",
        "    'x1': [0.01, -0.01, 0.25, -4.1, 0.],\n",
        "    'y': [-1.5, 0., 3.6, 1.3, -2.]})\n",
        "data\n",
        "data.columns\n",
        "data.values"
      ],
      "execution_count": null,
      "outputs": []
    },
    {
      "cell_type": "code",
      "metadata": {
        "deletable": true,
        "editable": true,
        "id": "5fgUEa25GIAC"
      },
      "source": [
        "df2 = pd.DataFrame(data.values, columns=['one', 'two', 'three'])\n",
        "df2"
      ],
      "execution_count": null,
      "outputs": []
    },
    {
      "cell_type": "code",
      "metadata": {
        "deletable": true,
        "editable": true,
        "id": "jtMRVlsVGIAC"
      },
      "source": [
        "model_cols = ['x0', 'x1']\n",
        "data.loc[:, model_cols].values"
      ],
      "execution_count": null,
      "outputs": []
    },
    {
      "cell_type": "code",
      "metadata": {
        "deletable": true,
        "editable": true,
        "id": "4AounWeUGIAD"
      },
      "source": [
        "data['category'] = pd.Categorical(['a', 'b', 'a', 'a', 'b'],\n",
        "                                  categories=['a', 'b'])\n",
        "data"
      ],
      "execution_count": null,
      "outputs": []
    },
    {
      "cell_type": "code",
      "metadata": {
        "deletable": true,
        "editable": true,
        "id": "CXIZErUOGIAE"
      },
      "source": [
        "dummies = pd.get_dummies(data.category, prefix='category')\n",
        "data_with_dummies = data.drop('category', axis=1).join(dummies)\n",
        "data_with_dummies"
      ],
      "execution_count": null,
      "outputs": []
    },
    {
      "cell_type": "markdown",
      "metadata": {
        "deletable": true,
        "editable": true,
        "id": "6KY58xcTGIAF"
      },
      "source": [
        "## 13.2 Creating Model Descriptions with Patsy 팻시를 이용해서 모델 생성하기"
      ]
    },
    {
      "cell_type": "markdown",
      "metadata": {
        "deletable": true,
        "editable": true,
        "id": "fbEopGXSGIAF"
      },
      "source": [
        "y ~ x0 + x1"
      ]
    },
    {
      "cell_type": "code",
      "metadata": {
        "deletable": true,
        "editable": true,
        "id": "oVoB4k9WGIAG"
      },
      "source": [
        "data = pd.DataFrame({\n",
        "    'x0': [1, 2, 3, 4, 5],\n",
        "    'x1': [0.01, -0.01, 0.25, -4.1, 0.],\n",
        "    'y': [-1.5, 0., 3.6, 1.3, -2.]})\n",
        "data\n",
        "import patsy\n",
        "y, X = patsy.dmatrices('y ~ x0 + x1', data)"
      ],
      "execution_count": null,
      "outputs": []
    },
    {
      "cell_type": "code",
      "metadata": {
        "deletable": true,
        "editable": true,
        "id": "eNgZv9o9GIAG"
      },
      "source": [
        "y\n",
        "X"
      ],
      "execution_count": null,
      "outputs": []
    },
    {
      "cell_type": "code",
      "metadata": {
        "deletable": true,
        "editable": true,
        "id": "0Z7uBlewGIAH"
      },
      "source": [
        "np.asarray(y)\n",
        "np.asarray(X)"
      ],
      "execution_count": null,
      "outputs": []
    },
    {
      "cell_type": "code",
      "metadata": {
        "deletable": true,
        "editable": true,
        "id": "-s-UHEBdGIAH"
      },
      "source": [
        "patsy.dmatrices('y ~ x0 + x1 + 0', data)[1]"
      ],
      "execution_count": null,
      "outputs": []
    },
    {
      "cell_type": "code",
      "metadata": {
        "deletable": true,
        "editable": true,
        "id": "YWWbiwVqGIAI"
      },
      "source": [
        "coef, resid, _, _ = np.linalg.lstsq(X, y)"
      ],
      "execution_count": null,
      "outputs": []
    },
    {
      "cell_type": "code",
      "metadata": {
        "deletable": true,
        "editable": true,
        "id": "sSgZTtWiGIAI"
      },
      "source": [
        "coef\n",
        "coef = pd.Series(coef.squeeze(), index=X.design_info.column_names)\n",
        "coef"
      ],
      "execution_count": null,
      "outputs": []
    },
    {
      "cell_type": "markdown",
      "metadata": {
        "deletable": true,
        "editable": true,
        "id": "mzsilo6FGIAJ"
      },
      "source": [
        "### 13.2.1 Data Transformations in Patsy Formulas 팻시 용법으로 데이터 변환하기"
      ]
    },
    {
      "cell_type": "code",
      "metadata": {
        "deletable": true,
        "editable": true,
        "id": "yiBfsZ2lGIAJ"
      },
      "source": [
        "y, X = patsy.dmatrices('y ~ x0 + np.log(np.abs(x1) + 1)', data)\n",
        "X"
      ],
      "execution_count": null,
      "outputs": []
    },
    {
      "cell_type": "code",
      "metadata": {
        "deletable": true,
        "editable": true,
        "id": "uXG3JDq1GIAJ"
      },
      "source": [
        "y, X = patsy.dmatrices('y ~ standardize(x0) + center(x1)', data)\n",
        "X"
      ],
      "execution_count": null,
      "outputs": []
    },
    {
      "cell_type": "code",
      "metadata": {
        "deletable": true,
        "editable": true,
        "id": "lWmDM3joGIAK"
      },
      "source": [
        "new_data = pd.DataFrame({\n",
        "    'x0': [6, 7, 8, 9],\n",
        "    'x1': [3.1, -0.5, 0, 2.3],\n",
        "    'y': [1, 2, 3, 4]})\n",
        "new_X = patsy.build_design_matrices([X.design_info], new_data)\n",
        "new_X"
      ],
      "execution_count": null,
      "outputs": []
    },
    {
      "cell_type": "code",
      "metadata": {
        "deletable": true,
        "editable": true,
        "id": "4xiZTZEMGIAK"
      },
      "source": [
        "y, X = patsy.dmatrices('y ~ I(x0 + x1)', data)\n",
        "X"
      ],
      "execution_count": null,
      "outputs": []
    },
    {
      "cell_type": "markdown",
      "metadata": {
        "deletable": true,
        "editable": true,
        "id": "Kk1ZS9_lGIAK"
      },
      "source": [
        "### 13.2.2 Categorical Data and Patsy 범주형 데이터와 팻시"
      ]
    },
    {
      "cell_type": "code",
      "metadata": {
        "deletable": true,
        "editable": true,
        "id": "qkKhesnDGIAL"
      },
      "source": [
        "data = pd.DataFrame({\n",
        "    'key1': ['a', 'a', 'b', 'b', 'a', 'b', 'a', 'b'],\n",
        "    'key2': [0, 1, 0, 1, 0, 1, 0, 0],\n",
        "    'v1': [1, 2, 3, 4, 5, 6, 7, 8],\n",
        "    'v2': [-1, 0, 2.5, -0.5, 4.0, -1.2, 0.2, -1.7]\n",
        "})\n",
        "y, X = patsy.dmatrices('v2 ~ key1', data)\n",
        "X"
      ],
      "execution_count": null,
      "outputs": []
    },
    {
      "cell_type": "code",
      "metadata": {
        "deletable": true,
        "editable": true,
        "id": "qOVTWZ5BGIAL"
      },
      "source": [
        "y, X = patsy.dmatrices('v2 ~ key1 + 0', data)\n",
        "X"
      ],
      "execution_count": null,
      "outputs": []
    },
    {
      "cell_type": "code",
      "metadata": {
        "deletable": true,
        "editable": true,
        "id": "UgHChErBGIAL"
      },
      "source": [
        "y, X = patsy.dmatrices('v2 ~ C(key2)', data)\n",
        "X"
      ],
      "execution_count": null,
      "outputs": []
    },
    {
      "cell_type": "code",
      "metadata": {
        "deletable": true,
        "editable": true,
        "id": "kdXPx6v1GIAM"
      },
      "source": [
        "data['key2'] = data['key2'].map({0: 'zero', 1: 'one'})\n",
        "data\n",
        "y, X = patsy.dmatrices('v2 ~ key1 + key2', data)\n",
        "X\n",
        "y, X = patsy.dmatrices('v2 ~ key1 + key2 + key1:key2', data)\n",
        "X"
      ],
      "execution_count": null,
      "outputs": []
    },
    {
      "cell_type": "markdown",
      "metadata": {
        "deletable": true,
        "editable": true,
        "id": "YNXyzfE9GIAM"
      },
      "source": [
        "## 13.3 Introduction to statsmodels_statsmodels 소개"
      ]
    },
    {
      "cell_type": "markdown",
      "metadata": {
        "deletable": true,
        "editable": true,
        "id": "50IKCyA6GIAN"
      },
      "source": [
        "### 13.3.1 Estimating Linear Models 선형 모델 예측하기"
      ]
    },
    {
      "cell_type": "code",
      "metadata": {
        "deletable": true,
        "editable": true,
        "id": "piUW8jqmGIAN"
      },
      "source": [
        "import statsmodels.api as sm\n",
        "import statsmodels.formula.api as smf"
      ],
      "execution_count": null,
      "outputs": []
    },
    {
      "cell_type": "code",
      "metadata": {
        "deletable": true,
        "editable": true,
        "id": "U-ZaiWu2GIAN"
      },
      "source": [
        "def dnorm(mean, variance, size=1):\n",
        "    if isinstance(size, int):\n",
        "        size = size,\n",
        "    return mean + np.sqrt(variance) * np.random.randn(*size)\n",
        "\n",
        "# For reproducibility\n",
        "np.random.seed(12345)\n",
        "\n",
        "N = 100\n",
        "X = np.c_[dnorm(0, 0.4, size=N),\n",
        "          dnorm(0, 0.6, size=N),\n",
        "          dnorm(0, 0.2, size=N)]\n",
        "eps = dnorm(0, 0.1, size=N)\n",
        "beta = [0.1, 0.3, 0.5]\n",
        "\n",
        "y = np.dot(X, beta) + eps"
      ],
      "execution_count": null,
      "outputs": []
    },
    {
      "cell_type": "code",
      "metadata": {
        "deletable": true,
        "editable": true,
        "id": "2Fk-DzJLGIAO"
      },
      "source": [
        "X[:5]\n",
        "y[:5]"
      ],
      "execution_count": null,
      "outputs": []
    },
    {
      "cell_type": "code",
      "metadata": {
        "deletable": true,
        "editable": true,
        "id": "m6izOwgLGIAP"
      },
      "source": [
        "X_model = sm.add_constant(X)\n",
        "X_model[:5]"
      ],
      "execution_count": null,
      "outputs": []
    },
    {
      "cell_type": "code",
      "metadata": {
        "deletable": true,
        "editable": true,
        "id": "9hUNpPE0GIAP"
      },
      "source": [
        "model = sm.OLS(y, X)"
      ],
      "execution_count": null,
      "outputs": []
    },
    {
      "cell_type": "code",
      "metadata": {
        "deletable": true,
        "editable": true,
        "id": "yUFhlKvHGIAP"
      },
      "source": [
        "results = model.fit()\n",
        "results.params"
      ],
      "execution_count": null,
      "outputs": []
    },
    {
      "cell_type": "code",
      "metadata": {
        "deletable": true,
        "editable": true,
        "id": "r443Bh4kGIAQ"
      },
      "source": [
        "print(results.summary())"
      ],
      "execution_count": null,
      "outputs": []
    },
    {
      "cell_type": "code",
      "metadata": {
        "deletable": true,
        "editable": true,
        "id": "x20AwZyAGIAQ"
      },
      "source": [
        "data = pd.DataFrame(X, columns=['col0', 'col1', 'col2'])\n",
        "data['y'] = y\n",
        "data[:5]"
      ],
      "execution_count": null,
      "outputs": []
    },
    {
      "cell_type": "code",
      "metadata": {
        "deletable": true,
        "editable": true,
        "id": "iNnlTERAGIAR"
      },
      "source": [
        "results = smf.ols('y ~ col0 + col1 + col2', data=data).fit()\n",
        "results.params\n",
        "results.tvalues"
      ],
      "execution_count": null,
      "outputs": []
    },
    {
      "cell_type": "code",
      "metadata": {
        "deletable": true,
        "editable": true,
        "id": "wMFf_pV-GIAR"
      },
      "source": [
        "results.predict(data[:5])"
      ],
      "execution_count": null,
      "outputs": []
    },
    {
      "cell_type": "markdown",
      "metadata": {
        "deletable": true,
        "editable": true,
        "id": "TDmk5j0ZGIAR"
      },
      "source": [
        "### 13.3.2 Estimating Time Series Processes 시계열 처리 예측"
      ]
    },
    {
      "cell_type": "code",
      "metadata": {
        "deletable": true,
        "editable": true,
        "id": "fjJvA8njGIAR"
      },
      "source": [
        "init_x = 4\n",
        "\n",
        "import random\n",
        "values = [init_x, init_x]\n",
        "N = 1000\n",
        "\n",
        "b0 = 0.8\n",
        "b1 = -0.4\n",
        "noise = dnorm(0, 0.1, N)\n",
        "for i in range(N):\n",
        "    new_x = values[-1] * b0 + values[-2] * b1 + noise[i]\n",
        "    values.append(new_x)"
      ],
      "execution_count": null,
      "outputs": []
    },
    {
      "cell_type": "code",
      "metadata": {
        "deletable": true,
        "editable": true,
        "id": "5-UjlNQeGIAS"
      },
      "source": [
        "MAXLAGS = 5\n",
        "model = sm.tsa.AR(values)\n",
        "results = model.fit(MAXLAGS)"
      ],
      "execution_count": null,
      "outputs": []
    },
    {
      "cell_type": "code",
      "metadata": {
        "deletable": true,
        "editable": true,
        "id": "bqbGXd8LGIAS"
      },
      "source": [
        "results.params"
      ],
      "execution_count": null,
      "outputs": []
    },
    {
      "cell_type": "markdown",
      "metadata": {
        "deletable": true,
        "editable": true,
        "id": "ychaULJjGIAT"
      },
      "source": [
        "## 13.4 Introduction to scikit-learn 사이킷런 소개"
      ]
    },
    {
      "cell_type": "code",
      "metadata": {
        "deletable": true,
        "editable": true,
        "id": "m0kcxDTVGIAT"
      },
      "source": [
        "train = pd.read_csv('datasets/titanic/train.csv')\n",
        "test = pd.read_csv('datasets/titanic/test.csv')\n",
        "train[:4]"
      ],
      "execution_count": null,
      "outputs": []
    },
    {
      "cell_type": "code",
      "metadata": {
        "deletable": true,
        "editable": true,
        "id": "D9rUaRuAGIAT"
      },
      "source": [
        "train.isnull().sum()\n",
        "test.isnull().sum()"
      ],
      "execution_count": null,
      "outputs": []
    },
    {
      "cell_type": "code",
      "metadata": {
        "deletable": true,
        "editable": true,
        "id": "xiUiPQwuGIAT"
      },
      "source": [
        "impute_value = train['Age'].median()\n",
        "train['Age'] = train['Age'].fillna(impute_value)\n",
        "test['Age'] = test['Age'].fillna(impute_value)"
      ],
      "execution_count": null,
      "outputs": []
    },
    {
      "cell_type": "code",
      "metadata": {
        "deletable": true,
        "editable": true,
        "id": "sNQqJQpLGIAU"
      },
      "source": [
        "train['IsFemale'] = (train['Sex'] == 'female').astype(int)\n",
        "test['IsFemale'] = (test['Sex'] == 'female').astype(int)"
      ],
      "execution_count": null,
      "outputs": []
    },
    {
      "cell_type": "code",
      "metadata": {
        "deletable": true,
        "editable": true,
        "id": "h6bLWa5mGIAU"
      },
      "source": [
        "predictors = ['Pclass', 'IsFemale', 'Age']\n",
        "X_train = train[predictors].values\n",
        "X_test = test[predictors].values\n",
        "y_train = train['Survived'].values\n",
        "X_train[:5]\n",
        "y_train[:5]"
      ],
      "execution_count": null,
      "outputs": []
    },
    {
      "cell_type": "code",
      "metadata": {
        "deletable": true,
        "editable": true,
        "id": "0xEKFuySGIAV"
      },
      "source": [
        "from sklearn.linear_model import LogisticRegression\n",
        "model = LogisticRegression()"
      ],
      "execution_count": null,
      "outputs": []
    },
    {
      "cell_type": "code",
      "metadata": {
        "deletable": true,
        "editable": true,
        "id": "WiHA5O-ZGIAV"
      },
      "source": [
        "model.fit(X_train, y_train)"
      ],
      "execution_count": null,
      "outputs": []
    },
    {
      "cell_type": "code",
      "metadata": {
        "deletable": true,
        "editable": true,
        "id": "e1bKfWlLGIAV"
      },
      "source": [
        "y_predict = model.predict(X_test)\n",
        "y_predict[:10]"
      ],
      "execution_count": null,
      "outputs": []
    },
    {
      "cell_type": "markdown",
      "metadata": {
        "deletable": true,
        "editable": true,
        "id": "i1Do2GrvGIAW"
      },
      "source": [
        "(y_true == y_predict).mean()"
      ]
    },
    {
      "cell_type": "code",
      "metadata": {
        "deletable": true,
        "editable": true,
        "id": "MCFCu_3kGIAW"
      },
      "source": [
        "from sklearn.linear_model import LogisticRegressionCV\n",
        "model_cv = LogisticRegressionCV(10)\n",
        "model_cv.fit(X_train, y_train)"
      ],
      "execution_count": null,
      "outputs": []
    },
    {
      "cell_type": "code",
      "metadata": {
        "deletable": true,
        "editable": true,
        "id": "aghYOIMiGIAW"
      },
      "source": [
        "from sklearn.model_selection import cross_val_score\n",
        "model = LogisticRegression(C=10)\n",
        "scores = cross_val_score(model, X_train, y_train, cv=4)\n",
        "scores"
      ],
      "execution_count": null,
      "outputs": []
    },
    {
      "cell_type": "markdown",
      "metadata": {
        "deletable": true,
        "editable": true,
        "id": "q0nfurDlGIAX"
      },
      "source": [
        "## 13.5 Continuing Your Education 더 공부하기"
      ]
    },
    {
      "cell_type": "code",
      "metadata": {
        "deletable": true,
        "editable": true,
        "id": "NLHdAmE1GIAX"
      },
      "source": [
        "pd.options.display.max_rows = PREVIOUS_MAX_ROWS"
      ],
      "execution_count": null,
      "outputs": []
    }
  ]
}